{
 "cells": [
  {
   "cell_type": "code",
   "execution_count": 2,
   "id": "f1ce5d50",
   "metadata": {},
   "outputs": [
    {
     "name": "stdout",
     "output_type": "stream",
     "text": [
      "cells 62001\n",
      "dim 250 x 250 x 1\n",
      "points 62500\n"
     ]
    }
   ],
   "source": [
    "import vtk\n",
    "from vtk import *\n",
    "\n",
    "reader = vtkXMLImageDataReader()\n",
    "reader.SetFileName('Data/Isabel_2D.vti')\n",
    "reader.Update()\n",
    "data = reader.GetOutput()\n",
    "numCells = data.GetNumberOfCells()\n",
    "dimensions = data.GetDimensions()\n",
    "numPoints = data.GetNumberOfPoints()\n",
    "print(\"cells\",numCells)\n",
    "print(\"dim\",dimensions[0], \"x\", dimensions[1], \"x\", dimensions[2])\n",
    "print(\"points\",numPoints)"
   ]
  },
  {
   "cell_type": "markdown",
   "id": "bf798c2d",
   "metadata": {},
   "source": []
  },
  {
   "cell_type": "code",
   "execution_count": 3,
   "id": "a11807af",
   "metadata": {},
   "outputs": [
    {
     "name": "stdout",
     "output_type": "stream",
     "text": [
      "Pressure range: -1434.8590087890625 630.5694580078125\n",
      "Mean pressure: 240.77722069091325\n"
     ]
    }
   ],
   "source": [
    "pressure_values = data.GetPointData().GetArray('Pressure')\n",
    "pressure_range = pressure_values.GetRange()\n",
    "print(\"Pressure range:\",pressure_range[0], pressure_range[1])\n",
    "total_pressure = 0\n",
    "pressure_points = 0\n",
    "for i in range(pressure_values.GetNumberOfTuples()):\n",
    "    total_pressure += pressure_values.GetTuple1(i)\n",
    "    pressure_points += 1\n",
    "average_pressure = total_pressure / pressure_points\n",
    "print(\"Mean pressure:\",average_pressure)\n"
   ]
  },
  {
   "cell_type": "code",
   "execution_count": 4,
   "id": "3c6fc69a",
   "metadata": {},
   "outputs": [
    {
     "name": "stdout",
     "output_type": "stream",
     "text": [
      "Number of points in sample cell: 4\n",
      "Number of edges in sample cell: 4\n",
      "Number of faces in sample cell: 0\n",
      "Vertex indices:  0 1 251 250\n",
      "Coordinates of vertex:\n",
      "(0.0, 0.0, 25.0)\n",
      "(1.0, 0.0, 25.0)\n",
      "(0.0, 1.0, 25.0)\n",
      "(1.0, 1.0, 25.0)\n",
      "The 3D coordinates of centroid:  0.5 0.5 25\n",
      "Pressure at vertex:\n",
      "477.527587890625\n",
      "474.79827880859375\n",
      "478.0115661621094\n",
      "467.60699462890625\n",
      "Mean pressure: 474.4861068725586\n"
     ]
    }
   ],
   "source": [
    "sample_cell = data.GetCell(0)\n",
    "\n",
    "print(\"Number of points in sample cell:\",sample_cell.GetNumberOfPoints())\n",
    "print(\"Number of edges in sample cell:\",sample_cell.GetNumberOfEdges())\n",
    "print(\"Number of faces in sample cell:\",sample_cell.GetNumberOfFaces())\n",
    "\n",
    "cell_vertices = sample_cell.GetPointIds()\n",
    "\n",
    "print(\"Vertex indices: \",cell_vertices.GetId(0),cell_vertices.GetId(1), cell_vertices.GetId(3), cell_vertices.GetId(2)) \n",
    "x_total = 0\n",
    "y_total = 0\n",
    "z_fixed = 25 \n",
    "print(\"Coordinates of vertex:\")\n",
    "for i in range(4):\n",
    "    vertex_coord = data.GetPoint(cell_vertices.GetId(i))\n",
    "    x_total += vertex_coord[0]\n",
    "    y_total += vertex_coord[1]\n",
    "    print(vertex_coord)\n",
    "x_mean = x_total / 4\n",
    "y_mean = y_total / 4\n",
    "print(\"The 3D coordinates of centroid: \",x_mean,y_mean, z_fixed)\n",
    "pressure_data = data.GetPointData().GetArray('Pressure')\n",
    "pressure_total = 0\n",
    "print(\"Pressure at vertex:\")\n",
    "for i in range(4):\n",
    "    vertex_pressure = pressure_data.GetTuple1(cell_vertices.GetId(i))\n",
    "    print(vertex_pressure)\n",
    "    pressure_total += vertex_pressure\n",
    "\n",
    "pressure_average = pressure_total/4\n",
    "print(\"Mean pressure:\", pressure_average)\n"
   ]
  },
  {
   "cell_type": "code",
   "execution_count": 6,
   "id": "7cc01f25",
   "metadata": {},
   "outputs": [],
   "source": [
    "\n",
    "    new_poly = vtk.vtkPolyData()\n",
    "    new_points = vtk.vtkPoints()\n",
    "    colors = vtk.vtkUnsignedCharArray()\n",
    "    colors.SetNumberOfComponents(3)\n",
    "    colors.SetName(\"Colors\")\n",
    "\n",
    "    for i in range(4):\n",
    "        vertex_coordinates = data.GetPoint(cell_vertices.GetId(i))\n",
    "        new_points.InsertNextPoint(vertex_coordinates)\n",
    "    colors.InsertNextTuple3(0, 0, 255) \n",
    "    colors.InsertNextTuple3(255, 0, 0)  \n",
    "    colors.InsertNextTuple3(0, 255, 0)  \n",
    "    colors.InsertNextTuple3(255, 25, 0)   \n",
    "    new_poly.SetPoints(new_points)\n",
    "    new_poly.GetPointData().SetScalars(colors)\n",
    "    glyph_filter = vtk.vtkVertexGlyphFilter()\n",
    "    glyph_filter.SetInputData(new_poly)\n",
    "    mapper = vtk.vtkPolyDataMapper()\n",
    "    mapper.SetInputConnection(glyph_filter.GetOutputPort())\n",
    "    actor = vtk.vtkActor()\n",
    "    actor.GetProperty().SetPointSize(5)\n",
    "    actor.SetMapper(mapper)\n",
    "    renderer = vtk.vtkRenderer()\n",
    "    renderer.AddActor(actor)\n",
    "    render_window = vtk.vtkRenderWindow()\n",
    "    render_window.AddRenderer(renderer)\n",
    "    render_window_interactor = vtk.vtkRenderWindowInteractor()\n",
    "    render_window_interactor.SetRenderWindow(render_window)\n",
    "    render_window.Render()\n",
    "    render_window_interactor.Start()"
   ]
  },
  {
   "cell_type": "code",
   "execution_count": null,
   "id": "3f88c0df",
   "metadata": {},
   "outputs": [],
   "source": []
  },
  {
   "cell_type": "code",
   "execution_count": null,
   "id": "04153eb2",
   "metadata": {},
   "outputs": [],
   "source": [
    "\n"
   ]
  },
  {
   "cell_type": "code",
   "execution_count": null,
   "id": "feca0368",
   "metadata": {},
   "outputs": [],
   "source": []
  },
  {
   "cell_type": "code",
   "execution_count": null,
   "id": "57aff32c",
   "metadata": {},
   "outputs": [],
   "source": []
  },
  {
   "cell_type": "code",
   "execution_count": null,
   "id": "d2e741a4",
   "metadata": {},
   "outputs": [],
   "source": []
  },
  {
   "cell_type": "code",
   "execution_count": null,
   "id": "0050208e",
   "metadata": {},
   "outputs": [],
   "source": []
  },
  {
   "cell_type": "code",
   "execution_count": null,
   "id": "40e9875e",
   "metadata": {},
   "outputs": [],
   "source": []
  }
 ],
 "metadata": {
  "kernelspec": {
   "display_name": "Python 3 (ipykernel)",
   "language": "python",
   "name": "python3"
  },
  "language_info": {
   "codemirror_mode": {
    "name": "ipython",
    "version": 3
   },
   "file_extension": ".py",
   "mimetype": "text/x-python",
   "name": "python",
   "nbconvert_exporter": "python",
   "pygments_lexer": "ipython3",
   "version": "3.9.12"
  }
 },
 "nbformat": 4,
 "nbformat_minor": 5
}
