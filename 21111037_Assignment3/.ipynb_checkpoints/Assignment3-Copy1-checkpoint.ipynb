{
 "cells": [
  {
   "cell_type": "code",
   "execution_count": 1,
   "id": "9f996900",
   "metadata": {},
   "outputs": [],
   "source": [
    "from vtk.util.numpy_support import vtk_to_numpy"
   ]
  },
  {
   "cell_type": "code",
   "execution_count": 2,
   "id": "b6307de1",
   "metadata": {},
   "outputs": [],
   "source": [
    "import plotly.graph_objs as go\n",
    "from plotly.subplots import make_subplots\n",
    "import numpy as np\n",
    "import vtk\n",
    "\n",
    "# Load VTI file using vtk\n",
    "reader = vtk.vtkXMLImageDataReader()\n",
    "reader.SetFileName(\"mixture.vti\")\n",
    "reader.Update()"
   ]
  },
  {
   "cell_type": "code",
   "execution_count": 3,
   "id": "3ced0c2d",
   "metadata": {},
   "outputs": [],
   "source": [
    "# Get the data as a numpy array\n",
    "data = reader.GetOutput()\n",
    "dims = data.GetDimensions()\n",
    "point_data = data.GetPointData()\n",
    "array_data = point_data.GetScalars()\n",
    "numpy_data = vtk_to_numpy(array_data)\n",
    "# numpy_data = numpy_data.reshape(dims, order='F')"
   ]
  },
  {
   "cell_type": "code",
   "execution_count": 4,
   "id": "b1c6ca23",
   "metadata": {},
   "outputs": [],
   "source": [
    "# Create uniform grid of 75x75x75\n",
    "X, Y, Z = np.mgrid[-5:5:75j, -5:5:75j, -5:5:75j]"
   ]
  },
  {
   "cell_type": "code",
   "execution_count": 5,
   "id": "97a080cc",
   "metadata": {},
   "outputs": [],
   "source": [
    "# create 2 subplots, left one is isosurface plot and the right one is the histogram plot\n",
    "fig = make_subplots(rows=1, cols=2, specs=[[{'type': 'isosurface'}, {'type': 'histogram'}]])\n",
    "fig.add_trace(go.Isosurface( # Add isosurface to the subplot\n",
    "    x=X.flatten(),\n",
    "    y=Y.flatten(),\n",
    "    z=Z.flatten(),\n",
    "    value=numpy_data,\n",
    "    isomin=0,\n",
    "    isomax=0,\n",
    "    colorscale=\"plasma\",\n",
    "    cmin=numpy_data.min(),\n",
    "    cmax=numpy_data.max(),\n",
    "    showscale=False\n",
    "))\n",
    "\n",
    "fig.add_trace(go.Histogram(x=numpy_data.flatten())) # Add histogram to the plot\n",
    "fig.update_xaxes(title_text='Vortex scalar values', row=1, col=2)\n",
    "fig.update_yaxes(title_text='Frequency', row=1, col=2)\n",
    "fig = go.FigureWidget(fig) # create FigureWidget"
   ]
  },
  {
   "cell_type": "code",
   "execution_count": 7,
   "id": "118a4da9",
   "metadata": {},
   "outputs": [],
   "source": [
    "import ipywidgets as widgets\n"
   ]
  },
  {
   "cell_type": "code",
   "execution_count": 15,
   "id": "e112a6b8",
   "metadata": {},
   "outputs": [],
   "source": [
    "from IPython.display import display\n",
    "button = widgets.Button(description=\"Reset\") # create reset button\n",
    "\n",
    "def on_button_clicked(b):\n",
    "    slider.value = 0 # this triggers on_value_changed\n",
    "    fig.data[1].xbins = {'start': numpy_data.min(), 'end': numpy_data.max()} # reset histogram range\n",
    "\n",
    "button.on_click(on_button_clicked)"
   ]
  },
  {
   "cell_type": "code",
   "execution_count": 13,
   "id": "01f91daf",
   "metadata": {},
   "outputs": [],
   "source": [
    "slider = widgets.FloatSlider(description='Isovalue:',  # Create slider\n",
    "                             min=numpy_data.min(), \n",
    "                             max=numpy_data.max(),\n",
    "                            continuous_update=False)\n",
    "def on_value_change(change):\n",
    "    fig.data[0].isomin = change['new'] # set new isovalue\n",
    "    fig.data[0].isomax = change['new']\n",
    "    fig.data[1].xbins = {'start': change['new'] - 0.25, 'end': change['new'] + 0.25} # set new range\n",
    "\n",
    "slider.observe(on_value_change, names='value')\n"
   ]
  },
  {
   "cell_type": "code",
   "execution_count": 16,
   "id": "c9a46344",
   "metadata": {},
   "outputs": [
    {
     "data": {
      "application/vnd.jupyter.widget-view+json": {
       "model_id": "50ed0cbae724430ab84d4346fc3085cc",
       "version_major": 2,
       "version_minor": 0
      },
      "text/plain": [
       "FloatSlider(value=-0.2935540556907654, continuous_update=False, description='Isovalue:', max=0.432801634073257…"
      ]
     },
     "metadata": {},
     "output_type": "display_data"
    },
    {
     "data": {
      "application/vnd.jupyter.widget-view+json": {
       "model_id": "c62929e8be8e4b658499b601e5351e58",
       "version_major": 2,
       "version_minor": 0
      },
      "text/plain": [
       "Button(description='Reset', style=ButtonStyle())"
      ]
     },
     "metadata": {},
     "output_type": "display_data"
    },
    {
     "data": {
      "application/vnd.jupyter.widget-view+json": {
       "model_id": "dfc50c71ed9a4742bcc6899658275b49",
       "version_major": 2,
       "version_minor": 0
      },
      "text/plain": [
       "FigureWidget({\n",
       "    'data': [{'cmax': 0.43280163,\n",
       "              'cmin': -0.99355406,\n",
       "              'colorscale': [[0.0, '#0d0887'], [0.1111111111111111, '#46039f'],\n",
       "                             [0.2222222222222222, '#7201a8'], [0.3333333333333333,\n",
       "                             '#9c179e'], [0.4444444444444444, '#bd3786'],\n",
       "                             [0.5555555555555556, '#d8576b'], [0.6666666666666666,\n",
       "                             '#ed7953'], [0.7777777777777778, '#fb9f3a'],\n",
       "                             [0.8888888888888888, '#fdca26'], [1.0, '#f0f921']],\n",
       "              'isomax': -0.2935540556907654,\n",
       "              'isomin': -0.2935540556907654,\n",
       "              'showscale': False,\n",
       "              'type': 'isosurface',\n",
       "              'uid': 'ff392a92-c572-4445-b363-475110231420',\n",
       "              'value': array([-0.04087147, -0.04280706, -0.05014687, ..., -0.7243356 , -0.7158576 ,\n",
       "                              -0.72851294], dtype=float32),\n",
       "              'x': array([-5., -5., -5., ...,  5.,  5.,  5.]),\n",
       "              'y': array([-5., -5., -5., ...,  5.,  5.,  5.]),\n",
       "              'z': array([-5.        , -4.86486486, -4.72972973, ...,  4.72972973,  4.86486486,\n",
       "                           5.        ])},\n",
       "             {'type': 'histogram',\n",
       "              'uid': 'bddca10a-b386-4a2c-a20b-bb7eade0f60d',\n",
       "              'x': array([-0.04087147, -0.04280706, -0.05014687, ..., -0.7243356 , -0.7158576 ,\n",
       "                          -0.72851294], dtype=float32),\n",
       "              'xbins': {'end': -0.043554055690765425, 'start': -0.5435540556907654}}],\n",
       "    'layout': {'scene': {'camera': {'center': {'x': 0, 'y': 0, 'z': 0},\n",
       "                                    'eye': {'x': 1.9571425034880356, 'y': -0.05694703069079101, 'z': 0.924040181342828},\n",
       "                                    'projection': {'type': 'perspective'},\n",
       "                                    'up': {'x': 0, 'y': 0, 'z': 1}},\n",
       "                         'domain': {'x': [0.0, 0.45], 'y': [0.0, 1.0]}},\n",
       "               'template': '...',\n",
       "               'xaxis': {'anchor': 'y', 'domain': [0.55, 1.0], 'title': {'text': 'Vortex scalar values'}},\n",
       "               'yaxis': {'anchor': 'x', 'domain': [0.0, 1.0], 'title': {'text': 'Frequency'}}}\n",
       "})"
      ]
     },
     "execution_count": 16,
     "metadata": {},
     "output_type": "execute_result"
    }
   ],
   "source": [
    "display(slider, button)\n",
    "fig"
   ]
  }
 ],
 "metadata": {
  "kernelspec": {
   "display_name": "Python 3 (ipykernel)",
   "language": "python",
   "name": "python3"
  },
  "language_info": {
   "codemirror_mode": {
    "name": "ipython",
    "version": 3
   },
   "file_extension": ".py",
   "mimetype": "text/x-python",
   "name": "python",
   "nbconvert_exporter": "python",
   "pygments_lexer": "ipython3",
   "version": "3.8.10"
  }
 },
 "nbformat": 4,
 "nbformat_minor": 5
}
