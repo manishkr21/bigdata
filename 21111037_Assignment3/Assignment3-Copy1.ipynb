{
 "cells": [
  {
   "cell_type": "code",
   "execution_count": 9,
   "id": "9f996900",
   "metadata": {},
   "outputs": [
    {
     "data": {
      "application/vnd.jupyter.widget-view+json": {
       "model_id": "2edb9e3795cb472790c686a8f36960a0",
       "version_major": 2,
       "version_minor": 0
      },
      "text/plain": [
       "FloatSlider(value=0.0, continuous_update=False, description='Isovalue:', max=0.43280163407325745, min=-0.99355…"
      ]
     },
     "metadata": {},
     "output_type": "display_data"
    },
    {
     "data": {
      "application/vnd.jupyter.widget-view+json": {
       "model_id": "0928ac6256f945d5bf8d602c1682b83b",
       "version_major": 2,
       "version_minor": 0
      },
      "text/plain": [
       "Button(description='Reset', style=ButtonStyle())"
      ]
     },
     "metadata": {},
     "output_type": "display_data"
    },
    {
     "data": {
      "application/vnd.jupyter.widget-view+json": {
       "model_id": "9ac33749d3a24d8ab326100858603627",
       "version_major": 2,
       "version_minor": 0
      },
      "text/plain": [
       "FigureWidget({\n",
       "    'data': [{'cmax': 0.43280163,\n",
       "              'cmin': -0.99355406,\n",
       "              'isomax': 0,\n",
       "              'isomin': 0,\n",
       "              'type': 'isosurface',\n",
       "              'uid': 'a622a4d9-a3d5-4646-b931-6a0adde9505c',\n",
       "              'value': array([-0.04087147, -0.04280706, -0.05014687, ..., -0.7243356 , -0.7158576 ,\n",
       "                              -0.72851294], dtype=float32),\n",
       "              'x': array([-5., -5., -5., ...,  5.,  5.,  5.]),\n",
       "              'y': array([-5., -5., -5., ...,  5.,  5.,  5.]),\n",
       "              'z': array([-5.        , -4.86486486, -4.72972973, ...,  4.72972973,  4.86486486,\n",
       "                           5.        ])},\n",
       "             {'type': 'histogram',\n",
       "              'uid': '2b07df35-9eb4-4d00-af80-c76de46e73f1',\n",
       "              'x': array([-0.04087147, -0.04280706, -0.05014687, ..., -0.7243356 , -0.7158576 ,\n",
       "                          -0.72851294], dtype=float32)}],\n",
       "    'layout': {'scene': {'domain': {'x': [0.0, 0.45], 'y': [0.0, 1.0]}},\n",
       "               'template': '...',\n",
       "               'xaxis': {'anchor': 'y', 'domain': [0.55, 1.0]},\n",
       "               'yaxis': {'anchor': 'x', 'domain': [0.0, 1.0]}}\n",
       "})"
      ]
     },
     "execution_count": 9,
     "metadata": {},
     "output_type": "execute_result"
    }
   ],
   "source": [
    "```import plotly.graph_objs as go\n",
    "from plotly.subplots import make_subplots\n",
    "import vtk\n",
    "from vtk.util.numpy_support import vtk_to_numpy\n",
    "import numpy as np\n",
    "import ipywidgets as widgets\n",
    "from IPython.display import display\n",
    "\n",
    "reader = vtk.vtkXMLImageDataReader()\n",
    "reader.SetFileName(\"mixture.vti\")\n",
    "reader.Update()\n",
    "\n",
    "data = reader.GetOutput()\n",
    "dims = data.GetDimensions()\n",
    "numpy_data = vtk_to_numpy(data.GetPointData().GetScalars())\n",
    "\n",
    "X, Y, Z = np.mgrid[-5:5:complex(dims[0]), -5:5:complex(dims[1]), -5:5:complex(dims[2])]\n",
    "\n",
    "fig = make_subplots(rows=1, cols=2, specs=[[{'type': 'isosurface'}, {'type': 'histogram'}]])\n",
    "fig.add_trace(go.Isosurface(\n",
    "    x=X.flatten(),\n",
    "    y=Y.flatten(),\n",
    "    z=Z.flatten(),\n",
    "    value=numpy_data,\n",
    "    isomin=0,\n",
    "    isomax=0,\n",
    "    cmin=numpy_data.min(),\n",
    "    cmax=numpy_data.max(),\n",
    "))\n",
    "\n",
    "fig.add_trace(go.Histogram(x=numpy_data.flatten()))\n",
    "fig = go.FigureWidget(fig)\n",
    "\n",
    "button = widgets.Button(description=\"Reset\")\n",
    "def on_button_clicked(b):\n",
    "    fig.data[0].isomin=0\n",
    "    fig.data[0].isomax=0\n",
    "    slider.value = 0\n",
    "    fig.data[1].xbins = dict(start=numpy_data.min(), end=numpy_data.max())\n",
    "button.on_click(on_button_clicked)\n",
    "\n",
    "slider = widgets.FloatSlider(description='Isovalue:',\n",
    "                             min=numpy_data.min(), \n",
    "                             max=numpy_data.max(),\n",
    "                            continuous_update=False)\n",
    "def on_value_change(change):\n",
    "    new_val = change['new']\n",
    "    fig.data[0].isomin = new_val\n",
    "    fig.data[0].isomax = new_val\n",
    "    fig.data[1].xbins = dict(start=new_val - 0.25, end=new_val + 0.25)\n",
    "slider.observe(on_value_change, names='value')\n",
    "\n",
    "\n",
    "display(slider, button)\n",
    "fig```"
   ]
  }
 ],
 "metadata": {
  "kernelspec": {
   "display_name": "Python 3 (ipykernel)",
   "language": "python",
   "name": "python3"
  },
  "language_info": {
   "codemirror_mode": {
    "name": "ipython",
    "version": 3
   },
   "file_extension": ".py",
   "mimetype": "text/x-python",
   "name": "python",
   "nbconvert_exporter": "python",
   "pygments_lexer": "ipython3",
   "version": "3.8.10"
  }
 },
 "nbformat": 4,
 "nbformat_minor": 5
}
