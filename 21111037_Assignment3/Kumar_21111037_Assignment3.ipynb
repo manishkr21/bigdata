{
 "cells": [
  {
   "cell_type": "code",
   "execution_count": 1,
   "id": "9f996900",
   "metadata": {},
   "outputs": [],
   "source": [
    "from vtk.util.numpy_support import vtk_to_numpy"
   ]
  },
  {
   "cell_type": "code",
   "execution_count": 2,
   "id": "b6307de1",
   "metadata": {},
   "outputs": [],
   "source": [
    "import plotly.graph_objs as go\n",
    "from plotly.subplots import make_subplots\n",
    "import numpy as np\n",
    "import vtk\n",
    "\n",
    "# Load VTI file using vtk\n",
    "reader = vtk.vtkXMLImageDataReader()\n",
    "reader.SetFileName(\"mixture.vti\")\n",
    "reader.Update()"
   ]
  },
  {
   "cell_type": "code",
   "execution_count": 3,
   "id": "3ced0c2d",
   "metadata": {},
   "outputs": [],
   "source": [
    "# Get the data as a numpy array\n",
    "data = reader.GetOutput()\n",
    "point_data = data.GetPointData()\n",
    "array_data = point_data.GetScalars()\n",
    "numpy_data = vtk_to_numpy(array_data)"
   ]
  },
  {
   "cell_type": "code",
   "execution_count": 4,
   "id": "b1c6ca23",
   "metadata": {},
   "outputs": [],
   "source": [
    "# Create uniform grid of 75x75x75\n",
    "X, Y, Z = np.mgrid[-5:5:75j, -5:5:75j, -5:5:75j]"
   ]
  },
  {
   "cell_type": "code",
   "execution_count": 5,
   "id": "97a080cc",
   "metadata": {},
   "outputs": [],
   "source": [
    "# create 2 subplots, left one is isosurface plot and the right one is the histogram plot\n",
    "fig = make_subplots(\n",
    "    rows=1,\n",
    "    cols=2,\n",
    "    specs=[[{'type': 'isosurface'}, {'type': 'histogram'}]],\n",
    "    subplot_titles=['Isosurface Visualization', 'Histogram Visualization']\n",
    ")\n",
    "\n",
    "# Add isosurface to the subplot\n",
    "fig.add_trace(go.Isosurface( \n",
    "    x=X.flatten(),\n",
    "    y=Y.flatten(),\n",
    "    z=Z.flatten(),\n",
    "    value=numpy_data,\n",
    "    isomin=0,\n",
    "    isomax=0,\n",
    "    colorscale=\"plasma\",\n",
    "    cmin=numpy_data.min(),\n",
    "    cmax=numpy_data.max(),\n",
    "    showscale=False\n",
    "))\n",
    "\n",
    "# Add histogram to the plot\n",
    "fig.add_trace(go.Histogram( \n",
    "    x=numpy_data.flatten(), \n",
    "    xbins_size=0.05, \n",
    "    marker=dict(color='blue'))\n",
    ") \n",
    "fig.update_xaxes(title_text='Vortex scalar values', row=1, col=2)\n",
    "fig.update_yaxes(title_text='Frequency', row=1, col=2)\n",
    "\n",
    "# create FigureWidget\n",
    "fig = go.FigureWidget(fig) "
   ]
  },
  {
   "cell_type": "code",
   "execution_count": 6,
   "id": "36a34327",
   "metadata": {},
   "outputs": [],
   "source": [
    "import ipywidgets as widgets\n",
    "from IPython.display import display\n",
    "\n",
    "# create reset button\n",
    "button = widgets.Button(description=\"Reset\") \n",
    "\n",
    "def reset(b):\n",
    "    slider.value = 0 # this triggers on_value_changed\n",
    "    fig.data[1].xbins = {'start': numpy_data.min(), 'end': numpy_data.max(), 'size': 0.05} # reset histogram range\n",
    "\n",
    "button.on_click(reset)"
   ]
  },
  {
   "cell_type": "code",
   "execution_count": 7,
   "id": "9426fb3d",
   "metadata": {},
   "outputs": [],
   "source": [
    "# Create slider\n",
    "slider = widgets.FloatSlider(description='Isovalue:',  \n",
    "                             min=numpy_data.min(), \n",
    "                             max=numpy_data.max(),\n",
    "                            continuous_update=False)\n",
    "def change_val(change):\n",
    "    fig.data[0].isomin = change['new'] # set new isovalue\n",
    "    fig.data[0].isomax = change['new']\n",
    "    fig.data[1].xbins = {'start': change['new'] - 0.25, 'end': change['new'] + 0.25, 'size': 0.05} # set new range\n",
    "\n",
    "slider.observe(change_val, names='value')\n"
   ]
  },
  {
   "cell_type": "code",
   "execution_count": 8,
   "id": "c9a46344",
   "metadata": {},
   "outputs": [
    {
     "data": {
      "application/vnd.jupyter.widget-view+json": {
       "model_id": "a68fe77aed064ba8a954fe9cb6719b93",
       "version_major": 2,
       "version_minor": 0
      },
      "text/plain": [
       "FloatSlider(value=0.0, continuous_update=False, description='Isovalue:', max=0.43280163407325745, min=-0.99355…"
      ]
     },
     "metadata": {},
     "output_type": "display_data"
    },
    {
     "data": {
      "application/vnd.jupyter.widget-view+json": {
       "model_id": "487a7a47ec794bdb95a09cfcc78ce1ae",
       "version_major": 2,
       "version_minor": 0
      },
      "text/plain": [
       "Button(description='Reset', style=ButtonStyle())"
      ]
     },
     "metadata": {},
     "output_type": "display_data"
    },
    {
     "data": {
      "application/vnd.jupyter.widget-view+json": {
       "model_id": "c51e4c5cbeaa497a9339fde11fb87133",
       "version_major": 2,
       "version_minor": 0
      },
      "text/plain": [
       "FigureWidget({\n",
       "    'data': [{'cmax': 0.43280163,\n",
       "              'cmin': -0.99355406,\n",
       "              'colorscale': [[0.0, '#0d0887'], [0.1111111111111111, '#46039f'],\n",
       "                             [0.2222222222222222, '#7201a8'], [0.3333333333333333,\n",
       "                             '#9c179e'], [0.4444444444444444, '#bd3786'],\n",
       "                             [0.5555555555555556, '#d8576b'], [0.6666666666666666,\n",
       "                             '#ed7953'], [0.7777777777777778, '#fb9f3a'],\n",
       "                             [0.8888888888888888, '#fdca26'], [1.0, '#f0f921']],\n",
       "              'isomax': 0,\n",
       "              'isomin': 0,\n",
       "              'showscale': False,\n",
       "              'type': 'isosurface',\n",
       "              'uid': '86716fb4-cea0-45e5-b661-b29b2a9f1618',\n",
       "              'value': array([-0.04087147, -0.04280706, -0.05014687, ..., -0.7243356 , -0.7158576 ,\n",
       "                              -0.72851294], dtype=float32),\n",
       "              'x': array([-5., -5., -5., ...,  5.,  5.,  5.]),\n",
       "              'y': array([-5., -5., -5., ...,  5.,  5.,  5.]),\n",
       "              'z': array([-5.        , -4.86486486, -4.72972973, ...,  4.72972973,  4.86486486,\n",
       "                           5.        ])},\n",
       "             {'marker': {'color': 'blue'},\n",
       "              'type': 'histogram',\n",
       "              'uid': 'fb7f7bdb-79d9-47f9-a2ca-e213b2cd0768',\n",
       "              'x': array([-0.04087147, -0.04280706, -0.05014687, ..., -0.7243356 , -0.7158576 ,\n",
       "                          -0.72851294], dtype=float32),\n",
       "              'xbins': {'size': 0.05}}],\n",
       "    'layout': {'annotations': [{'font': {'size': 16},\n",
       "                                'showarrow': False,\n",
       "                                'text': 'Isosurface Visualization',\n",
       "                                'x': 0.225,\n",
       "                                'xanchor': 'center',\n",
       "                                'xref': 'paper',\n",
       "                                'y': 1.0,\n",
       "                                'yanchor': 'bottom',\n",
       "                                'yref': 'paper'},\n",
       "                               {'font': {'size': 16},\n",
       "                                'showarrow': False,\n",
       "                                'text': 'Histogram Visualization',\n",
       "                                'x': 0.775,\n",
       "                                'xanchor': 'center',\n",
       "                                'xref': 'paper',\n",
       "                                'y': 1.0,\n",
       "                                'yanchor': 'bottom',\n",
       "                                'yref': 'paper'}],\n",
       "               'scene': {'domain': {'x': [0.0, 0.45], 'y': [0.0, 1.0]}},\n",
       "               'template': '...',\n",
       "               'xaxis': {'anchor': 'y', 'domain': [0.55, 1.0], 'title': {'text': 'Vortex scalar values'}},\n",
       "               'yaxis': {'anchor': 'x', 'domain': [0.0, 1.0], 'title': {'text': 'Frequency'}}}\n",
       "})"
      ]
     },
     "execution_count": 8,
     "metadata": {},
     "output_type": "execute_result"
    }
   ],
   "source": [
    "# display figures with slider and button\n",
    "display(slider, button)\n",
    "fig"
   ]
  },
  {
   "cell_type": "code",
   "execution_count": null,
   "id": "645f787d",
   "metadata": {},
   "outputs": [],
   "source": []
  }
 ],
 "metadata": {
  "kernelspec": {
   "display_name": "Python 3 (ipykernel)",
   "language": "python",
   "name": "python3"
  },
  "language_info": {
   "codemirror_mode": {
    "name": "ipython",
    "version": 3
   },
   "file_extension": ".py",
   "mimetype": "text/x-python",
   "name": "python",
   "nbconvert_exporter": "python",
   "pygments_lexer": "ipython3",
   "version": "3.8.10"
  }
 },
 "nbformat": 4,
 "nbformat_minor": 5
}
