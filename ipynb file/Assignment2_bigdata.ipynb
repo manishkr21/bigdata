{
 "cells": [
  {
   "cell_type": "markdown",
   "id": "83a42908",
   "metadata": {},
   "source": [
    "## Ans1: 2D Isocontour Extraction"
   ]
  },
  {
   "cell_type": "code",
   "execution_count": 1,
   "id": "5f1c0d8f",
   "metadata": {},
   "outputs": [],
   "source": [
    "# import libraray\n",
    "from vtk import *\n",
    "import vtk"
   ]
  },
  {
   "cell_type": "markdown",
   "id": "6e697e03",
   "metadata": {},
   "source": [
    "##  Simplified Version of the Marching Squares algorithm"
   ]
  },
  {
   "cell_type": "markdown",
   "id": "9c573ce4",
   "metadata": {},
   "source": [
    " # find the pair of points in which given point lie, for example if we have given mapping of points\n",
    "        # [[0,220],[1,250],[3,260],[2,280]]\n",
    "        # this \n",
    "        #  2   3     this form of point labeling follow\n",
    "        #\n",
    "        #  0   1"
   ]
  },
  {
   "cell_type": "code",
   "execution_count": 2,
   "id": "854e1040",
   "metadata": {},
   "outputs": [],
   "source": [
    "# Funtion to generate the isocontour as a VTKPolyData object\n",
    "\n",
    "def Marching_Square_Algo(inputFile,outputFile,isovalue):\n",
    "    # Load Image data\n",
    "    imgReader = vtk.vtkXMLImageDataReader()\n",
    "    imgReader.SetFileName(inputFile)\n",
    "    imgReader.Update()\n",
    "    given_Image_Data = imgReader.GetOutput()\n",
    "\n",
    "    # find Number of Cells and number of Points\n",
    "    no_Of_Cells = given_Image_Data.GetNumberOfCells()\n",
    "    no_Of_Points = given_Image_Data.GetNumberOfPoints()\n",
    "    \n",
    "    # find the scalar values of each point\n",
    "    values = []\n",
    "    for i in range(no_Of_Points):\n",
    "        values.append(given_Image_Data.GetPointData().GetScalars().GetTuple1(i))\n",
    "    \n",
    "    # Create an array to store the contour segments\n",
    "    contourLines = vtk.vtkCellArray()\n",
    "    contourPoints = vtk.vtkPoints()\n",
    "    contourSegments = []\n",
    "    \n",
    "    # Loop through each cell and determine the contour segments\n",
    "    for i in range(no_Of_Cells):\n",
    "        cell = given_Image_Data.GetCell(i)\n",
    "        num_cell_points = cell.GetNumberOfPoints()\n",
    "        cell_points = cell.GetPointIds()\n",
    "        \n",
    "        count = 2 # Defining cap, So the we can Ignore rest of the cases \n",
    "        \n",
    "        for currPoint in [0,1,3,2]:\n",
    "            if count==0:   \n",
    "                break\n",
    "            nextPoint = 1\n",
    "            if currPoint==1:\n",
    "                nextPoint=3\n",
    "            elif currPoint==3:\n",
    "                nextPoint = 2 \n",
    "            elif currPoint==2:\n",
    "                nextPoint = 0\n",
    "            p1 = cell_points.GetId(currPoint)\n",
    "            p2 = cell_points.GetId(nextPoint)\n",
    "            \n",
    "            if (values[p1] <= isovalue and values[p2] > isovalue) or (values[p1] > isovalue and values[p2] <= isovalue):\n",
    "                # Interpolate the points along the line segment\n",
    "                count -= 1\n",
    "                fraction = (isovalue - values[p1]) / (values[p2] - values[p1])\n",
    "                x1, y1, z1 = given_Image_Data.GetPoint(p1)\n",
    "                x2, y2, z2 = given_Image_Data.GetPoint(p2)\n",
    "                x = x1 + fraction * (x2 - x1)\n",
    "                y = y1 + fraction * (y2 - y1)\n",
    "                z = 25\n",
    "                \n",
    "                # Add the interpolated point to the contour points\n",
    "                contourPoints.InsertNextPoint(x, y, z)\n",
    "                # contourSegments.append((len(contourSegments), len(contourSegments) + 1))\n",
    "        line = vtk.vtkLine()\n",
    "        line.GetPointIds().SetId(0, contourPoints.GetNumberOfPoints()-2)\n",
    "        line.GetPointIds().SetId(1, contourPoints.GetNumberOfPoints()-1)\n",
    "        contourLines.InsertNextCell(line)\n",
    "    \n",
    "    # Create the object of PolyData\n",
    "    polydata = vtk.vtkPolyData()\n",
    "    polydata.SetPoints(contourPoints)\n",
    "    polydata.SetLines(contourLines)\n",
    "    \n",
    "    # Writing the data in VTK’s polydata file format\n",
    "    writer = vtk.vtkXMLPolyDataWriter()\n",
    "    writer.SetFileName(outputFile)\n",
    "    writer.SetInputData(polydata)\n",
    "    writer.Write()\n",
    "    \n",
    "    print(\"Output Produce in the format of : \", outputFile)"
   ]
  },
  {
   "cell_type": "code",
   "execution_count": 3,
   "id": "eb7b910a",
   "metadata": {},
   "outputs": [
    {
     "name": "stdout",
     "output_type": "stream",
     "text": [
      "Enter an isovalue : 4000\n"
     ]
    }
   ],
   "source": [
    "isovalue = int(input(\"Enter an isovalue : \"))"
   ]
  },
  {
   "cell_type": "code",
   "execution_count": 4,
   "id": "fb730e97",
   "metadata": {},
   "outputs": [
    {
     "name": "stdout",
     "output_type": "stream",
     "text": [
      "Output Produce in the format of :  output.vtp\n"
     ]
    }
   ],
   "source": [
    "Marching_Square_Algo('Data/Isabel_2D.vti', \"output.vtp\", isovalue)"
   ]
  },
  {
   "cell_type": "code",
   "execution_count": 5,
   "id": "aab89372",
   "metadata": {},
   "outputs": [],
   "source": [
    "import vtk\n",
    "\n",
    "def extract_isocontour_filter(input_filename, output_filename, isovalue):\n",
    "    # Read the input VTKImageData file\n",
    "    imgReader = vtk.vtkXMLImageDataReader()\n",
    "    imgReader.SetFileName(input_filename)\n",
    "    imgReader.Update()\n",
    "    image_data = imgReader.GetOutput()\n",
    "    \n",
    "    # Extract geometry from the image data\n",
    "    geometryFilter = vtk.vtkImageDataGeometryFilter()\n",
    "    geometryFilter.SetInputData(image_data)\n",
    "    geometryFilter.Update()\n",
    "    poly_data = geometryFilter.GetOutput()\n",
    "    \n",
    "    # Extract the isocontour\n",
    "    contourFilter = vtk.vtkContourFilter()\n",
    "    contourFilter.SetInputData(poly_data)\n",
    "    contourFilter.SetValue(0, isovalue)\n",
    "    contourFilter.Update()\n",
    "    poly_data = contourFilter.GetOutput()\n",
    "    \n",
    "    # Write the output VTKPolyData file\n",
    "    writer = vtk.vtkXMLPolyDataWriter()\n",
    "    writer.SetFileName(output_filename)\n",
    "    writer.SetInputData(contourFilter.GetOutput())\n",
    "    writer.Write()\n",
    "\n",
    "if __name__ == \"__main__\":\n",
    "    extract_isocontour_filter('Data/Isabel_2D.vti', \"output.vtp\", 20)\n"
   ]
  },
  {
   "cell_type": "markdown",
   "id": "fa01dbab",
   "metadata": {},
   "source": [
    "## Ans 2: VTK Volume Rendering and Transfer Function"
   ]
  },
  {
   "cell_type": "code",
   "execution_count": 6,
   "id": "69bb5b2a",
   "metadata": {},
   "outputs": [
    {
     "name": "stderr",
     "output_type": "stream",
     "text": [
      "../src/intel/isl/isl.c:2105: FINISHME: ../src/intel/isl/isl.c:isl_surf_supports_ccs: CCS for 3D textures is disabled, but a workaround is available.\n"
     ]
    }
   ],
   "source": [
    "import vtk\n",
    "# import sys\n",
    "\n",
    "# Load the 3D data\n",
    "imgReader = vtk.vtkXMLImageDataReader()\n",
    "imgReader.SetFileName(\"Data/Isabel_3D.vti\")\n",
    "imgReader.Update()\n",
    "\n",
    "# Color Transfer Function with given Specification\n",
    "colorTransferFunction = vtk.vtkColorTransferFunction()\n",
    "colorTransferFunction.AddRGBPoint(-4931.54, 0, 1, 1)\n",
    "colorTransferFunction.AddRGBPoint(-2508.95, 0, 0, 1)\n",
    "colorTransferFunction.AddRGBPoint(-1873.9, 0, 0, 0.5)\n",
    "colorTransferFunction.AddRGBPoint(-1027.16, 1, 0, 0)\n",
    "colorTransferFunction.AddRGBPoint(-298.031, 1, 0.4, 0)\n",
    "colorTransferFunction.AddRGBPoint(2594.97, 1, 1, 0)\n",
    "\n",
    "# Opacity Transfer Function with given Specification\n",
    "opacityTransferFunction = vtk.vtkPiecewiseFunction()\n",
    "opacityTransferFunction.AddPoint(-4931.54, 1.0)\n",
    "opacityTransferFunction.AddPoint(101.815, 0.002)\n",
    "opacityTransferFunction.AddPoint(2594.97, 0.0)\n",
    "\n",
    "# Applying volume rendering\n",
    "mapper = vtk.vtkSmartVolumeMapper()\n",
    "mapper.SetInputConnection(imgReader.GetOutputPort())\n",
    "\n",
    "# Use Phong shading or not\n",
    "# use_phong = input(\"Do you want to use Phong shading? (yes/no) \")\n",
    "use_phong = \"yes\"\n",
    "\n",
    "volume = vtk.vtkVolume()\n",
    "objVolumeProperty = vtk.vtkVolumeProperty()\n",
    "objVolumeProperty.SetColor(colorTransferFunction)\n",
    "objVolumeProperty.SetScalarOpacity(opacityTransferFunction)\n",
    "objVolumeProperty.ShadeOn()\n",
    "if use_phong == \"yes\":\n",
    "    # Phong Shading Parameters\n",
    "    objVolumeProperty.SetAmbient(0.5)\n",
    "    objVolumeProperty.SetDiffuse(0.5)\n",
    "    objVolumeProperty.SetSpecular(0.5)\n",
    "else:\n",
    "    objVolumeProperty.ShadeOff()\n",
    "volume.SetMapper(mapper)\n",
    "volume.SetProperty(objVolumeProperty)\n",
    "\n",
    "# Add an outline to the volume rendered data\n",
    "outline = vtk.vtkOutlineFilter()\n",
    "outline.SetInputConnection(imgReader.GetOutputPort())\n",
    "outlineDataMapper = vtk.vtkPolyDataMapper()\n",
    "outlineDataMapper.SetInputConnection(outline.GetOutputPort())\n",
    "objVtkActor = vtk.vtkActor()\n",
    "objVtkActor.SetMapper(outlineDataMapper)\n",
    "\n",
    "# Create a render window\n",
    "renderer = vtk.vtkRenderer()\n",
    "# renderer.SetBackground(1,1,1)\n",
    "renderer.AddVolume(volume)\n",
    "renderer.AddActor(objVtkActor)\n",
    "\n",
    "objRenderWindow = vtk.vtkRenderWindow()\n",
    "objRenderWindow.SetSize(1000, 1000)\n",
    "objRenderWindow.AddRenderer(renderer)\n",
    "objRenderWindow_interactor = vtk.vtkRenderWindowInteractor()\n",
    "objRenderWindow_interactor.SetRenderWindow(objRenderWindow)\n",
    "\n",
    "objRenderWindow.Render()\n",
    "objRenderWindow_interactor.Start()\n"
   ]
  },
  {
   "cell_type": "code",
   "execution_count": null,
   "id": "dbfe259a",
   "metadata": {},
   "outputs": [],
   "source": []
  }
 ],
 "metadata": {
  "kernelspec": {
   "display_name": "Python 3 (ipykernel)",
   "language": "python",
   "name": "python3"
  },
  "language_info": {
   "codemirror_mode": {
    "name": "ipython",
    "version": 3
   },
   "file_extension": ".py",
   "mimetype": "text/x-python",
   "name": "python",
   "nbconvert_exporter": "python",
   "pygments_lexer": "ipython3",
   "version": "3.8.10"
  }
 },
 "nbformat": 4,
 "nbformat_minor": 5
}
